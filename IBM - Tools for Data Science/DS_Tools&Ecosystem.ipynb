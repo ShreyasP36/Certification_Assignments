{
 "cells": [
  {
   "cell_type": "markdown",
   "id": "f0ce7963-79e9-46d1-8f50-adb77d955d86",
   "metadata": {},
   "source": [
    "# Data Science Tools and Ecosystem"
   ]
  },
  {
   "cell_type": "markdown",
   "id": "f501969f-0bd5-4520-a3b1-98ace2298bb7",
   "metadata": {},
   "source": [
    "This notebook provides an overview of the tools and ecosystem used in Data Science."
   ]
  },
  {
   "cell_type": "markdown",
   "id": "920ffdf9-8c25-46f6-ae81-fcb87d0ba281",
   "metadata": {},
   "source": [
    "**Objectives:**\n",
    "- Popular languages for Data Science.\n",
    "- Popular libraries used by Data Scientists\n",
    "- Data Science tools\n",
    "- Example of solving arithmetic expressions"
   ]
  },
  {
   "cell_type": "markdown",
   "id": "4ee4beb7-139e-443b-b26a-66a258f8913b",
   "metadata": {},
   "source": [
    "Data Scientists commonly use several popular programming languages, including:\n",
    "1. Python\n",
    "2. R\n",
    "3. SQL\n",
    "4. Java\n",
    "5. Scala\n",
    "6. Julia\n",
    "7. MATLAB"
   ]
  },
  {
   "cell_type": "markdown",
   "id": "aed1d049-149f-47ab-9990-f4a9e49733ba",
   "metadata": {},
   "source": [
    "Some of the commonly used libraries by Data Scientists include:\n",
    "1. NumPy\n",
    "2. Pandas\n",
    "3. Matplotlib\n",
    "4. Scikit-learn\n",
    "5. TensorFlow\n",
    "6. PyTorch\n",
    "7. Keras"
   ]
  },
  {
   "cell_type": "markdown",
   "id": "b321fc16-6b11-4e56-a214-79fa7596fced",
   "metadata": {},
   "source": [
    "| Data Science Tools      |\n",
    "|-------------------------|\n",
    "| Jupyter Notebook        |\n",
    "| RStudio                 |\n",
    "| Visual Studio Code      |"
   ]
  },
  {
   "cell_type": "markdown",
   "id": "694d6d00-c25f-4a8e-8412-2838e169e4d1",
   "metadata": {},
   "source": [
    "### Below are a few examples of evaluating arithmetic expressions in Python"
   ]
  },
  {
   "cell_type": "code",
   "execution_count": 45,
   "id": "4b1861aa-217e-4213-8330-5e47402c5bff",
   "metadata": {},
   "outputs": [
    {
     "data": {
      "text/plain": [
       "17"
      ]
     },
     "execution_count": 45,
     "metadata": {},
     "output_type": "execute_result"
    }
   ],
   "source": [
    "# This a simple arithmetic expression to mutiply then add integers\n",
    "(3*4)+5 "
   ]
  },
  {
   "cell_type": "code",
   "execution_count": 47,
   "id": "038fa5f5-2222-4ae5-8777-37037d726651",
   "metadata": {},
   "outputs": [
    {
     "data": {
      "text/plain": [
       "3.3333333333333335"
      ]
     },
     "execution_count": 47,
     "metadata": {},
     "output_type": "execute_result"
    }
   ],
   "source": [
    " # This will convert 200 minutes to hours by diving by 60\n",
    "200/60"
   ]
  },
  {
   "cell_type": "markdown",
   "id": "4e63ffe2-9801-4f37-a238-80ed25ed8635",
   "metadata": {},
   "source": [
    "## Author\n",
    "Shreyas Prasad"
   ]
  }
 ],
 "metadata": {
  "kernelspec": {
   "display_name": "Python 3 (ipykernel)",
   "language": "python",
   "name": "python3"
  },
  "language_info": {
   "codemirror_mode": {
    "name": "ipython",
    "version": 3
   },
   "file_extension": ".py",
   "mimetype": "text/x-python",
   "name": "python",
   "nbconvert_exporter": "python",
   "pygments_lexer": "ipython3",
   "version": "3.12.4"
  }
 },
 "nbformat": 4,
 "nbformat_minor": 5
}
